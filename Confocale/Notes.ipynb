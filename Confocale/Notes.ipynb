{
 "cells": [
  {
   "cell_type": "markdown",
   "id": "f646c5ca",
   "metadata": {},
   "source": [
    "### Data stream control\n",
    "> Dans l'interface du serveur red pitaya il y a l'onglet Data stream control."
   ]
  },
  {
   "cell_type": "markdown",
   "id": "08db0a01",
   "metadata": {},
   "source": []
  }
 ],
 "metadata": {
  "language_info": {
   "name": "python"
  }
 },
 "nbformat": 4,
 "nbformat_minor": 5
}
